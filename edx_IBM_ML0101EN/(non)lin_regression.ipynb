{
 "cells": [
  {
   "cell_type": "markdown",
   "metadata": {},
   "source": [
    "Linear regression model\n",
    "\n",
    "brief: Carbon dioxide emission of cars. Target - is to find the best correlation with CO2EMISSIONS "
   ]
  },
  {
   "cell_type": "code",
   "execution_count": 2,
   "metadata": {},
   "outputs": [
    {
     "name": "stdout",
     "output_type": "stream",
     "text": [
      "File `dataset/FuelConsumption.csv' already there; not retrieving.\r\n"
     ]
    }
   ],
   "source": [
    "file_name = 'dataset/FuelConsumption.csv'\n",
    "!wget -nc -O $file_name https://s3-api.us-geo.objectstorage.softlayer.net/cf-courses-data/CognitiveClass/ML0101ENv3/labs/FuelConsumptionCo2.csv"
   ]
  },
  {
   "cell_type": "code",
   "execution_count": 3,
   "metadata": {},
   "outputs": [],
   "source": [
    "import matplotlib.pyplot as plt\n",
    "import pandas as pd\n",
    "import pylab as pl\n",
    "import numpy as np\n",
    "%matplotlib inline"
   ]
  },
  {
   "cell_type": "code",
   "execution_count": 4,
   "metadata": {},
   "outputs": [
    {
     "data": {
      "text/html": [
       "<div>\n",
       "<style scoped>\n",
       "    .dataframe tbody tr th:only-of-type {\n",
       "        vertical-align: middle;\n",
       "    }\n",
       "\n",
       "    .dataframe tbody tr th {\n",
       "        vertical-align: top;\n",
       "    }\n",
       "\n",
       "    .dataframe thead th {\n",
       "        text-align: right;\n",
       "    }\n",
       "</style>\n",
       "<table border=\"1\" class=\"dataframe\">\n",
       "  <thead>\n",
       "    <tr style=\"text-align: right;\">\n",
       "      <th></th>\n",
       "      <th>MODELYEAR</th>\n",
       "      <th>ENGINESIZE</th>\n",
       "      <th>CYLINDERS</th>\n",
       "      <th>FUELCONSUMPTION_CITY</th>\n",
       "      <th>FUELCONSUMPTION_HWY</th>\n",
       "      <th>FUELCONSUMPTION_COMB</th>\n",
       "      <th>FUELCONSUMPTION_COMB_MPG</th>\n",
       "      <th>CO2EMISSIONS</th>\n",
       "    </tr>\n",
       "  </thead>\n",
       "  <tbody>\n",
       "    <tr>\n",
       "      <th>count</th>\n",
       "      <td>42.0</td>\n",
       "      <td>42.000000</td>\n",
       "      <td>42.000000</td>\n",
       "      <td>42.000000</td>\n",
       "      <td>42.000000</td>\n",
       "      <td>42.000000</td>\n",
       "      <td>42.000000</td>\n",
       "      <td>42.000000</td>\n",
       "    </tr>\n",
       "    <tr>\n",
       "      <th>mean</th>\n",
       "      <td>2014.0</td>\n",
       "      <td>2.211905</td>\n",
       "      <td>4.404762</td>\n",
       "      <td>10.423810</td>\n",
       "      <td>7.500000</td>\n",
       "      <td>9.116667</td>\n",
       "      <td>31.857143</td>\n",
       "      <td>216.000000</td>\n",
       "    </tr>\n",
       "    <tr>\n",
       "      <th>std</th>\n",
       "      <td>0.0</td>\n",
       "      <td>0.535201</td>\n",
       "      <td>0.700506</td>\n",
       "      <td>1.839381</td>\n",
       "      <td>1.264332</td>\n",
       "      <td>1.557502</td>\n",
       "      <td>6.071008</td>\n",
       "      <td>31.265191</td>\n",
       "    </tr>\n",
       "    <tr>\n",
       "      <th>min</th>\n",
       "      <td>2014.0</td>\n",
       "      <td>1.400000</td>\n",
       "      <td>4.000000</td>\n",
       "      <td>5.600000</td>\n",
       "      <td>5.200000</td>\n",
       "      <td>5.400000</td>\n",
       "      <td>23.000000</td>\n",
       "      <td>124.000000</td>\n",
       "    </tr>\n",
       "    <tr>\n",
       "      <th>25%</th>\n",
       "      <td>2014.0</td>\n",
       "      <td>2.000000</td>\n",
       "      <td>4.000000</td>\n",
       "      <td>9.500000</td>\n",
       "      <td>6.750000</td>\n",
       "      <td>8.275000</td>\n",
       "      <td>29.000000</td>\n",
       "      <td>197.000000</td>\n",
       "    </tr>\n",
       "    <tr>\n",
       "      <th>50%</th>\n",
       "      <td>2014.0</td>\n",
       "      <td>2.000000</td>\n",
       "      <td>4.000000</td>\n",
       "      <td>10.600000</td>\n",
       "      <td>7.600000</td>\n",
       "      <td>9.350000</td>\n",
       "      <td>30.000000</td>\n",
       "      <td>215.000000</td>\n",
       "    </tr>\n",
       "    <tr>\n",
       "      <th>75%</th>\n",
       "      <td>2014.0</td>\n",
       "      <td>2.500000</td>\n",
       "      <td>5.000000</td>\n",
       "      <td>11.200000</td>\n",
       "      <td>8.000000</td>\n",
       "      <td>9.800000</td>\n",
       "      <td>33.750000</td>\n",
       "      <td>225.000000</td>\n",
       "    </tr>\n",
       "    <tr>\n",
       "      <th>max</th>\n",
       "      <td>2014.0</td>\n",
       "      <td>3.600000</td>\n",
       "      <td>6.000000</td>\n",
       "      <td>14.300000</td>\n",
       "      <td>10.300000</td>\n",
       "      <td>12.300000</td>\n",
       "      <td>52.000000</td>\n",
       "      <td>283.000000</td>\n",
       "    </tr>\n",
       "  </tbody>\n",
       "</table>\n",
       "</div>"
      ],
      "text/plain": [
       "       MODELYEAR  ENGINESIZE  CYLINDERS  FUELCONSUMPTION_CITY  \\\n",
       "count       42.0   42.000000  42.000000             42.000000   \n",
       "mean      2014.0    2.211905   4.404762             10.423810   \n",
       "std          0.0    0.535201   0.700506              1.839381   \n",
       "min       2014.0    1.400000   4.000000              5.600000   \n",
       "25%       2014.0    2.000000   4.000000              9.500000   \n",
       "50%       2014.0    2.000000   4.000000             10.600000   \n",
       "75%       2014.0    2.500000   5.000000             11.200000   \n",
       "max       2014.0    3.600000   6.000000             14.300000   \n",
       "\n",
       "       FUELCONSUMPTION_HWY  FUELCONSUMPTION_COMB  FUELCONSUMPTION_COMB_MPG  \\\n",
       "count            42.000000             42.000000                 42.000000   \n",
       "mean              7.500000              9.116667                 31.857143   \n",
       "std               1.264332              1.557502                  6.071008   \n",
       "min               5.200000              5.400000                 23.000000   \n",
       "25%               6.750000              8.275000                 29.000000   \n",
       "50%               7.600000              9.350000                 30.000000   \n",
       "75%               8.000000              9.800000                 33.750000   \n",
       "max              10.300000             12.300000                 52.000000   \n",
       "\n",
       "       CO2EMISSIONS  \n",
       "count     42.000000  \n",
       "mean     216.000000  \n",
       "std       31.265191  \n",
       "min      124.000000  \n",
       "25%      197.000000  \n",
       "50%      215.000000  \n",
       "75%      225.000000  \n",
       "max      283.000000  "
      ]
     },
     "execution_count": 4,
     "metadata": {},
     "output_type": "execute_result"
    }
   ],
   "source": [
    "df = pd.read_csv(file_name)\n",
    "df.head()\n",
    "volkswagen = df.loc[(df['MAKE'] == 'VOLKSWAGEN')]\n",
    "volkswagen.describe()"
   ]
  },
  {
   "cell_type": "code",
   "execution_count": 5,
   "metadata": {},
   "outputs": [
    {
     "data": {
      "text/plain": [
       "array([[<matplotlib.axes._subplots.AxesSubplot object at 0x7fa8780e2c90>,\n",
       "        <matplotlib.axes._subplots.AxesSubplot object at 0x7fa87800df10>],\n",
       "       [<matplotlib.axes._subplots.AxesSubplot object at 0x7fa877fd05d0>,\n",
       "        <matplotlib.axes._subplots.AxesSubplot object at 0x7fa877f86c50>]],\n",
       "      dtype=object)"
      ]
     },
     "execution_count": 5,
     "metadata": {},
     "output_type": "execute_result"
    },
    {
     "data": {
      "image/png": "[encoded data removed]",
      "text/plain": [
       "<Figure size 432x288 with 4 Axes>"
      ]
     },
     "metadata": {
      "needs_background": "light"
     },
     "output_type": "display_data"
    }
   ],
   "source": [
    "volkswagen[['ENGINESIZE', 'CYLINDERS', 'FUELCONSUMPTION_CITY', 'CO2EMISSIONS']].hist(bins=5)"
   ]
  },
  {
   "cell_type": "code",
   "execution_count": 6,
   "metadata": {},
   "outputs": [
    {
     "data": {
      "image/png": "[encoded data removed]",
      "text/plain": [
       "<Figure size 432x288 with 1 Axes>"
      ]
     },
     "metadata": {
      "needs_background": "light"
     },
     "output_type": "display_data"
    }
   ],
   "source": [
    "plt.scatter(df['FUELCONSUMPTION_COMB'], df['CO2EMISSIONS'],  color='red')\n",
    "plt.xlabel(\"fuel\")\n",
    "plt.ylabel(\"emission\")\n",
    "plt.show()"
   ]
  },
  {
   "cell_type": "code",
   "execution_count": 7,
   "metadata": {},
   "outputs": [
    {
     "name": "stdout",
     "output_type": "stream",
     "text": [
      "       FUELCONSUMPTION_COMB  CO2EMISSIONS\n",
      "count            135.000000    135.000000\n",
      "mean              10.771111    251.629630\n",
      "std                2.233693     48.243744\n",
      "min                5.400000    124.000000\n",
      "25%                9.350000    219.500000\n",
      "50%               10.600000    246.000000\n",
      "75%               11.900000    277.000000\n",
      "max               17.800000    409.000000\n"
     ]
    },
    {
     "data": {
      "image/png": "[encoded data removed]",
      "text/plain": [
       "<Figure size 432x288 with 1 Axes>"
      ]
     },
     "metadata": {
      "needs_background": "light"
     },
     "output_type": "display_data"
    }
   ],
   "source": [
    "# just interesting if these three lines relate to different auto-groups, for example, VAG group?\n",
    "# => at first glance, answer is 'not so much' \n",
    "vag_ls = {'AUDI', 'VOLKSWAGEN', 'SEAT', 'SKODA', 'PORSCHE'}\n",
    "vag = df.loc[df['MAKE'].isin(vag_ls), ['FUELCONSUMPTION_COMB', 'CO2EMISSIONS']]\n",
    "print(vag.describe())\n",
    "\n",
    "plt.scatter(vag['FUELCONSUMPTION_COMB'], vag['CO2EMISSIONS'],  color='silver')\n",
    "plt.xlabel(\"fuel\")\n",
    "plt.ylabel(\"emission\")\n",
    "plt.show()"
   ]
  },
  {
   "cell_type": "code",
   "execution_count": 8,
   "metadata": {},
   "outputs": [
    {
     "name": "stdout",
     "output_type": "stream",
     "text": [
      "       FUELCONSUMPTION_COMB  CO2EMISSIONS\n",
      "count            932.000000     932.00000\n",
      "mean              11.698176     256.89485\n",
      "std                3.617197      65.26785\n",
      "min                4.700000     108.00000\n",
      "25%                8.975000     205.00000\n",
      "50%               11.050000     252.00000\n",
      "75%               13.800000     294.00000\n",
      "max               25.800000     488.00000\n"
     ]
    },
    {
     "data": {
      "image/png": "[encoded data removed]",
      "text/plain": [
       "<Figure size 432x288 with 1 Axes>"
      ]
     },
     "metadata": {
      "needs_background": "light"
     },
     "output_type": "display_data"
    }
   ],
   "source": [
    "non_vag = df.loc[~df['MAKE'].isin(vag_ls), ['FUELCONSUMPTION_COMB', 'CO2EMISSIONS']]\n",
    "print(non_vag.describe())\n",
    "\n",
    "plt.scatter(non_vag['FUELCONSUMPTION_COMB'], non_vag['CO2EMISSIONS'],  color='green')\n",
    "plt.xlabel(\"fuel\")\n",
    "plt.ylabel(\"emission\")\n",
    "plt.show()"
   ]
  },
  {
   "cell_type": "code",
   "execution_count": 20,
   "metadata": {},
   "outputs": [
    {
     "name": "stdout",
     "output_type": "stream",
     "text": [
      "[[9.61647748 9.76786083 8.05331891]] [64.52754731]\n"
     ]
    }
   ],
   "source": [
    "# let's true this amazing&magic 'Linear Regression'\n",
    "msk = np.random.rand(len(df)) < 0.8\n",
    "train = df[msk]\n",
    "test = df[~msk]\n",
    "\n",
    "from sklearn import linear_model\n",
    "lin_regr = linear_model.LinearRegression()\n",
    "\n",
    "features = ['ENGINESIZE', 'FUELCONSUMPTION_COMB', 'CYLINDERS']\n",
    "train_x = train[features]\n",
    "train_y = train[['CO2EMISSIONS']]\n",
    "\n",
    "lin_regr.fit(train_x, train_y)\n",
    "print(lin_regr.coef_, lin_regr.intercept_)\n",
    "\n",
    "# plt.scatter(train['ENGINESIZE'], train['CO2EMISSIONS'],  color='blue')\n",
    "# plt.plot(train_x, regr.coef_[0][0]*train_x + regr.intercept_[0], '-b')\n",
    "# plt.xlabel(\"Engine size\")\n",
    "# plt.ylabel(\"Emission\")"
   ]
  },
  {
   "cell_type": "code",
   "execution_count": 37,
   "metadata": {},
   "outputs": [
    {
     "name": "stdout",
     "output_type": "stream",
     "text": [
      "Mean absolute error: 16.16\n",
      "Residual sum of squares (MSE): 529.52\n",
      "R2-score: 0.86403\n",
      "R2-score: 0.86403\n"
     ]
    }
   ],
   "source": [
    "# validate\n",
    "from sklearn.metrics import r2_score\n",
    "\n",
    "test_x = test[features]\n",
    "test_y = test[['CO2EMISSIONS']]\n",
    "test_y_pr = lin_regr.predict(test_x)\n",
    "\n",
    "print(\"Mean absolute error: %.2f\" % np.mean(np.absolute(test_y_pr - test_y)))\n",
    "print(\"Residual sum of squares (MSE): %.2f\" % np.mean((test_y_pr - test_y) ** 2))\n",
    "print(\"R2-score: %.5f\" % r2_score(test_y , test_y_pr) )\n",
    "print(\"R2-score: %.5f\" % lin_regr.score(test_x , test_y) )"
   ]
  },
  {
   "cell_type": "markdown",
   "metadata": {},
   "source": [
    "Polynomial regression"
   ]
  },
  {
   "cell_type": "code",
   "execution_count": 97,
   "metadata": {},
   "outputs": [],
   "source": [
    "from sklearn.preprocessing import PolynomialFeatures\n",
    "from sklearn import linear_model\n",
    "\n",
    "msk = np.random.rand(len(df)) < 0.8\n",
    "train = df[msk]\n",
    "test = df[~msk]\n",
    "\n",
    "train_x = train[['ENGINESIZE']]\n",
    "train_y = train[['CO2EMISSIONS']]\n",
    "\n",
    "test_x = test[['ENGINESIZE']]\n",
    "test_y = test[['CO2EMISSIONS']]"
   ]
  },
  {
   "cell_type": "code",
   "execution_count": 98,
   "metadata": {},
   "outputs": [
    {
     "data": {
      "text/plain": [
       "array([[ 1.  ,  2.  ,  4.  ],\n",
       "       [ 1.  ,  2.4 ,  5.76],\n",
       "       [ 1.  ,  1.5 ,  2.25],\n",
       "       ...,\n",
       "       [ 1.  ,  3.2 , 10.24],\n",
       "       [ 1.  ,  3.2 , 10.24],\n",
       "       [ 1.  ,  3.2 , 10.24]])"
      ]
     },
     "execution_count": 98,
     "metadata": {},
     "output_type": "execute_result"
    }
   ],
   "source": [
    "# x to poly(1+x+x^2)\n",
    "train_x_poly = PolynomialFeatures(degree=2).fit_transform(train_x)\n",
    "train_x_poly"
   ]
  },
  {
   "cell_type": "code",
   "execution_count": 101,
   "metadata": {},
   "outputs": [
    {
     "data": {
      "text/plain": [
       "[<matplotlib.lines.Line2D at 0x7fa86dd81210>]"
      ]
     },
     "execution_count": 101,
     "metadata": {},
     "output_type": "execute_result"
    },
    {
     "data": {
      "image/png": "[encoded data removed]",
      "text/plain": [
       "<Figure size 432x288 with 1 Axes>"
      ]
     },
     "metadata": {
      "needs_background": "light"
     },
     "output_type": "display_data"
    }
   ],
   "source": [
    "plin_regr = linear_model.LinearRegression()\n",
    "plin_regr.fit(train_x_poly, train_y)\n",
    "\n",
    "ar_x = np.arange(0, df['ENGINESIZE'].max(), 0.1)\n",
    "ar_y = (plin_regr.intercept_[0] + plin_regr.coef_[0][0] \n",
    "                 + plin_regr.coef_[0][1]*ar + plin_regr.coef_[0][2]*(ar**2))\n",
    "\n",
    "plt.scatter(df['ENGINESIZE'], df['CO2EMISSIONS'])\n",
    "plt.plot(ar_x, ar_y, '-r')"
   ]
  },
  {
   "cell_type": "code",
   "execution_count": 103,
   "metadata": {},
   "outputs": [
    {
     "name": "stdout",
     "output_type": "stream",
     "text": [
      "R^2 score 0.72594\n",
      "R^2 score 0.76302\n"
     ]
    }
   ],
   "source": [
    "# evaluation\n",
    "test_x_poly = PolynomialFeatures(degree=2).fit_transform(test_x)\n",
    "y_pred = plin_regr.predict(test_x_poly)\n",
    "print(\"R^2 score %.5f\" % r2_score(y_pred, test_y))\n",
    "print(\"R^2 score %.5f\" % plin_regr.score(test_x_poly, test_y))"
   ]
  },
  {
   "cell_type": "code",
   "execution_count": null,
   "metadata": {},
   "outputs": [],
   "source": []
  }
 ],
 "metadata": {
  "kernelspec": {
   "display_name": "Python 3",
   "language": "python",
   "name": "python3"
  },
  "language_info": {
   "codemirror_mode": {
    "name": "ipython",
    "version": 3
   },
   "file_extension": ".py",
   "mimetype": "text/x-python",
   "name": "python",
   "nbconvert_exporter": "python",
   "pygments_lexer": "ipython3",
   "version": "3.7.7"
  }
 },
 "nbformat": 4,
 "nbformat_minor": 2
}
